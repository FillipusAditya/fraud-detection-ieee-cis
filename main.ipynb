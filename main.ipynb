{
 "cells": [
  {
   "cell_type": "code",
   "execution_count": 35,
   "id": "66f43831",
   "metadata": {},
   "outputs": [],
   "source": [
    "import numpy as np \n",
    "import pandas as pd \n",
    "import seaborn as sns\n",
    "import matplotlib.pyplot as plt\n",
    "from matplotlib_venn import venn2\n",
    "import os"
   ]
  },
  {
   "cell_type": "markdown",
   "id": "6d1ddd6d",
   "metadata": {},
   "source": [
    "# Import Data"
   ]
  },
  {
   "cell_type": "code",
   "execution_count": 4,
   "id": "7221eebd",
   "metadata": {},
   "outputs": [],
   "source": [
    "train_identity_df = pd.read_csv(\"./train_identity.csv\")\n",
    "train_transaction_df = pd.read_csv(\"./train_transaction.csv\")\n",
    "\n",
    "test_identity_df = pd.read_csv(\"./test_identity.csv\")\n",
    "test_transaction_df = pd.read_csv(\"./test_transaction.csv\")"
   ]
  },
  {
   "cell_type": "markdown",
   "id": "a67316e2",
   "metadata": {},
   "source": [
    "# Exploratory Data Analysis (EDA)"
   ]
  },
  {
   "cell_type": "markdown",
   "id": "b06992d6",
   "metadata": {},
   "source": [
    "## Train Identity DF"
   ]
  },
  {
   "cell_type": "markdown",
   "id": "adae86c0",
   "metadata": {},
   "source": [
    "The train_identity.csv file holds supplementary, anonymized identity and device metadata that can be joined with transaction data to improve fraud detection models. The id_01–id_38 columns are cryptic by design (to protect privacy) but serve as important engineered features for detecting abnormal or suspicious patterns."
   ]
  },
  {
   "cell_type": "code",
   "execution_count": 5,
   "id": "221ef469",
   "metadata": {},
   "outputs": [
    {
     "data": {
      "application/vnd.microsoft.datawrangler.viewer.v0+json": {
       "columns": [
        {
         "name": "index",
         "rawType": "int64",
         "type": "integer"
        },
        {
         "name": "TransactionID",
         "rawType": "int64",
         "type": "integer"
        },
        {
         "name": "id_01",
         "rawType": "float64",
         "type": "float"
        },
        {
         "name": "id_02",
         "rawType": "float64",
         "type": "float"
        },
        {
         "name": "id_03",
         "rawType": "float64",
         "type": "float"
        },
        {
         "name": "id_04",
         "rawType": "float64",
         "type": "float"
        },
        {
         "name": "id_05",
         "rawType": "float64",
         "type": "float"
        },
        {
         "name": "id_06",
         "rawType": "float64",
         "type": "float"
        },
        {
         "name": "id_07",
         "rawType": "float64",
         "type": "float"
        },
        {
         "name": "id_08",
         "rawType": "float64",
         "type": "float"
        },
        {
         "name": "id_09",
         "rawType": "float64",
         "type": "float"
        },
        {
         "name": "id_10",
         "rawType": "float64",
         "type": "float"
        },
        {
         "name": "id_11",
         "rawType": "float64",
         "type": "float"
        },
        {
         "name": "id_12",
         "rawType": "object",
         "type": "string"
        },
        {
         "name": "id_13",
         "rawType": "float64",
         "type": "float"
        },
        {
         "name": "id_14",
         "rawType": "float64",
         "type": "float"
        },
        {
         "name": "id_15",
         "rawType": "object",
         "type": "string"
        },
        {
         "name": "id_16",
         "rawType": "object",
         "type": "string"
        },
        {
         "name": "id_17",
         "rawType": "float64",
         "type": "float"
        },
        {
         "name": "id_18",
         "rawType": "float64",
         "type": "float"
        },
        {
         "name": "id_19",
         "rawType": "float64",
         "type": "float"
        },
        {
         "name": "id_20",
         "rawType": "float64",
         "type": "float"
        },
        {
         "name": "id_21",
         "rawType": "float64",
         "type": "float"
        },
        {
         "name": "id_22",
         "rawType": "float64",
         "type": "float"
        },
        {
         "name": "id_23",
         "rawType": "object",
         "type": "unknown"
        },
        {
         "name": "id_24",
         "rawType": "float64",
         "type": "float"
        },
        {
         "name": "id_25",
         "rawType": "float64",
         "type": "float"
        },
        {
         "name": "id_26",
         "rawType": "float64",
         "type": "float"
        },
        {
         "name": "id_27",
         "rawType": "object",
         "type": "unknown"
        },
        {
         "name": "id_28",
         "rawType": "object",
         "type": "string"
        },
        {
         "name": "id_29",
         "rawType": "object",
         "type": "string"
        },
        {
         "name": "id_30",
         "rawType": "object",
         "type": "unknown"
        },
        {
         "name": "id_31",
         "rawType": "object",
         "type": "string"
        },
        {
         "name": "id_32",
         "rawType": "float64",
         "type": "float"
        },
        {
         "name": "id_33",
         "rawType": "object",
         "type": "unknown"
        },
        {
         "name": "id_34",
         "rawType": "object",
         "type": "unknown"
        },
        {
         "name": "id_35",
         "rawType": "object",
         "type": "string"
        },
        {
         "name": "id_36",
         "rawType": "object",
         "type": "string"
        },
        {
         "name": "id_37",
         "rawType": "object",
         "type": "string"
        },
        {
         "name": "id_38",
         "rawType": "object",
         "type": "string"
        },
        {
         "name": "DeviceType",
         "rawType": "object",
         "type": "string"
        },
        {
         "name": "DeviceInfo",
         "rawType": "object",
         "type": "unknown"
        }
       ],
       "ref": "472fb490-6612-4111-a525-de3fa2001dc1",
       "rows": [
        [
         "0",
         "2987004",
         "0.0",
         "70787.0",
         null,
         null,
         null,
         null,
         null,
         null,
         null,
         null,
         "100.0",
         "NotFound",
         null,
         "-480.0",
         "New",
         "NotFound",
         "166.0",
         null,
         "542.0",
         "144.0",
         null,
         null,
         null,
         null,
         null,
         null,
         null,
         "New",
         "NotFound",
         "Android 7.0",
         "samsung browser 6.2",
         "32.0",
         "2220x1080",
         "match_status:2",
         "T",
         "F",
         "T",
         "T",
         "mobile",
         "SAMSUNG SM-G892A Build/NRD90M"
        ],
        [
         "1",
         "2987008",
         "-5.0",
         "98945.0",
         null,
         null,
         "0.0",
         "-5.0",
         null,
         null,
         null,
         null,
         "100.0",
         "NotFound",
         "49.0",
         "-300.0",
         "New",
         "NotFound",
         "166.0",
         null,
         "621.0",
         "500.0",
         null,
         null,
         null,
         null,
         null,
         null,
         null,
         "New",
         "NotFound",
         "iOS 11.1.2",
         "mobile safari 11.0",
         "32.0",
         "1334x750",
         "match_status:1",
         "T",
         "F",
         "F",
         "T",
         "mobile",
         "iOS Device"
        ],
        [
         "2",
         "2987010",
         "-5.0",
         "191631.0",
         "0.0",
         "0.0",
         "0.0",
         "0.0",
         null,
         null,
         "0.0",
         "0.0",
         "100.0",
         "NotFound",
         "52.0",
         null,
         "Found",
         "Found",
         "121.0",
         null,
         "410.0",
         "142.0",
         null,
         null,
         null,
         null,
         null,
         null,
         null,
         "Found",
         "Found",
         null,
         "chrome 62.0",
         null,
         null,
         null,
         "F",
         "F",
         "T",
         "T",
         "desktop",
         "Windows"
        ],
        [
         "3",
         "2987011",
         "-5.0",
         "221832.0",
         null,
         null,
         "0.0",
         "-6.0",
         null,
         null,
         null,
         null,
         "100.0",
         "NotFound",
         "52.0",
         null,
         "New",
         "NotFound",
         "225.0",
         null,
         "176.0",
         "507.0",
         null,
         null,
         null,
         null,
         null,
         null,
         null,
         "New",
         "NotFound",
         null,
         "chrome 62.0",
         null,
         null,
         null,
         "F",
         "F",
         "T",
         "T",
         "desktop",
         null
        ],
        [
         "4",
         "2987016",
         "0.0",
         "7460.0",
         "0.0",
         "0.0",
         "1.0",
         "0.0",
         null,
         null,
         "0.0",
         "0.0",
         "100.0",
         "NotFound",
         null,
         "-300.0",
         "Found",
         "Found",
         "166.0",
         "15.0",
         "529.0",
         "575.0",
         null,
         null,
         null,
         null,
         null,
         null,
         null,
         "Found",
         "Found",
         "Mac OS X 10_11_6",
         "chrome 62.0",
         "24.0",
         "1280x800",
         "match_status:2",
         "T",
         "F",
         "T",
         "T",
         "desktop",
         "MacOS"
        ]
       ],
       "shape": {
        "columns": 41,
        "rows": 5
       }
      },
      "text/html": [
       "<div>\n",
       "<style scoped>\n",
       "    .dataframe tbody tr th:only-of-type {\n",
       "        vertical-align: middle;\n",
       "    }\n",
       "\n",
       "    .dataframe tbody tr th {\n",
       "        vertical-align: top;\n",
       "    }\n",
       "\n",
       "    .dataframe thead th {\n",
       "        text-align: right;\n",
       "    }\n",
       "</style>\n",
       "<table border=\"1\" class=\"dataframe\">\n",
       "  <thead>\n",
       "    <tr style=\"text-align: right;\">\n",
       "      <th></th>\n",
       "      <th>TransactionID</th>\n",
       "      <th>id_01</th>\n",
       "      <th>id_02</th>\n",
       "      <th>id_03</th>\n",
       "      <th>id_04</th>\n",
       "      <th>id_05</th>\n",
       "      <th>id_06</th>\n",
       "      <th>id_07</th>\n",
       "      <th>id_08</th>\n",
       "      <th>id_09</th>\n",
       "      <th>...</th>\n",
       "      <th>id_31</th>\n",
       "      <th>id_32</th>\n",
       "      <th>id_33</th>\n",
       "      <th>id_34</th>\n",
       "      <th>id_35</th>\n",
       "      <th>id_36</th>\n",
       "      <th>id_37</th>\n",
       "      <th>id_38</th>\n",
       "      <th>DeviceType</th>\n",
       "      <th>DeviceInfo</th>\n",
       "    </tr>\n",
       "  </thead>\n",
       "  <tbody>\n",
       "    <tr>\n",
       "      <th>0</th>\n",
       "      <td>2987004</td>\n",
       "      <td>0.0</td>\n",
       "      <td>70787.0</td>\n",
       "      <td>NaN</td>\n",
       "      <td>NaN</td>\n",
       "      <td>NaN</td>\n",
       "      <td>NaN</td>\n",
       "      <td>NaN</td>\n",
       "      <td>NaN</td>\n",
       "      <td>NaN</td>\n",
       "      <td>...</td>\n",
       "      <td>samsung browser 6.2</td>\n",
       "      <td>32.0</td>\n",
       "      <td>2220x1080</td>\n",
       "      <td>match_status:2</td>\n",
       "      <td>T</td>\n",
       "      <td>F</td>\n",
       "      <td>T</td>\n",
       "      <td>T</td>\n",
       "      <td>mobile</td>\n",
       "      <td>SAMSUNG SM-G892A Build/NRD90M</td>\n",
       "    </tr>\n",
       "    <tr>\n",
       "      <th>1</th>\n",
       "      <td>2987008</td>\n",
       "      <td>-5.0</td>\n",
       "      <td>98945.0</td>\n",
       "      <td>NaN</td>\n",
       "      <td>NaN</td>\n",
       "      <td>0.0</td>\n",
       "      <td>-5.0</td>\n",
       "      <td>NaN</td>\n",
       "      <td>NaN</td>\n",
       "      <td>NaN</td>\n",
       "      <td>...</td>\n",
       "      <td>mobile safari 11.0</td>\n",
       "      <td>32.0</td>\n",
       "      <td>1334x750</td>\n",
       "      <td>match_status:1</td>\n",
       "      <td>T</td>\n",
       "      <td>F</td>\n",
       "      <td>F</td>\n",
       "      <td>T</td>\n",
       "      <td>mobile</td>\n",
       "      <td>iOS Device</td>\n",
       "    </tr>\n",
       "    <tr>\n",
       "      <th>2</th>\n",
       "      <td>2987010</td>\n",
       "      <td>-5.0</td>\n",
       "      <td>191631.0</td>\n",
       "      <td>0.0</td>\n",
       "      <td>0.0</td>\n",
       "      <td>0.0</td>\n",
       "      <td>0.0</td>\n",
       "      <td>NaN</td>\n",
       "      <td>NaN</td>\n",
       "      <td>0.0</td>\n",
       "      <td>...</td>\n",
       "      <td>chrome 62.0</td>\n",
       "      <td>NaN</td>\n",
       "      <td>NaN</td>\n",
       "      <td>NaN</td>\n",
       "      <td>F</td>\n",
       "      <td>F</td>\n",
       "      <td>T</td>\n",
       "      <td>T</td>\n",
       "      <td>desktop</td>\n",
       "      <td>Windows</td>\n",
       "    </tr>\n",
       "    <tr>\n",
       "      <th>3</th>\n",
       "      <td>2987011</td>\n",
       "      <td>-5.0</td>\n",
       "      <td>221832.0</td>\n",
       "      <td>NaN</td>\n",
       "      <td>NaN</td>\n",
       "      <td>0.0</td>\n",
       "      <td>-6.0</td>\n",
       "      <td>NaN</td>\n",
       "      <td>NaN</td>\n",
       "      <td>NaN</td>\n",
       "      <td>...</td>\n",
       "      <td>chrome 62.0</td>\n",
       "      <td>NaN</td>\n",
       "      <td>NaN</td>\n",
       "      <td>NaN</td>\n",
       "      <td>F</td>\n",
       "      <td>F</td>\n",
       "      <td>T</td>\n",
       "      <td>T</td>\n",
       "      <td>desktop</td>\n",
       "      <td>NaN</td>\n",
       "    </tr>\n",
       "    <tr>\n",
       "      <th>4</th>\n",
       "      <td>2987016</td>\n",
       "      <td>0.0</td>\n",
       "      <td>7460.0</td>\n",
       "      <td>0.0</td>\n",
       "      <td>0.0</td>\n",
       "      <td>1.0</td>\n",
       "      <td>0.0</td>\n",
       "      <td>NaN</td>\n",
       "      <td>NaN</td>\n",
       "      <td>0.0</td>\n",
       "      <td>...</td>\n",
       "      <td>chrome 62.0</td>\n",
       "      <td>24.0</td>\n",
       "      <td>1280x800</td>\n",
       "      <td>match_status:2</td>\n",
       "      <td>T</td>\n",
       "      <td>F</td>\n",
       "      <td>T</td>\n",
       "      <td>T</td>\n",
       "      <td>desktop</td>\n",
       "      <td>MacOS</td>\n",
       "    </tr>\n",
       "  </tbody>\n",
       "</table>\n",
       "<p>5 rows × 41 columns</p>\n",
       "</div>"
      ],
      "text/plain": [
       "   TransactionID  id_01     id_02  id_03  id_04  id_05  id_06  id_07  id_08  \\\n",
       "0        2987004    0.0   70787.0    NaN    NaN    NaN    NaN    NaN    NaN   \n",
       "1        2987008   -5.0   98945.0    NaN    NaN    0.0   -5.0    NaN    NaN   \n",
       "2        2987010   -5.0  191631.0    0.0    0.0    0.0    0.0    NaN    NaN   \n",
       "3        2987011   -5.0  221832.0    NaN    NaN    0.0   -6.0    NaN    NaN   \n",
       "4        2987016    0.0    7460.0    0.0    0.0    1.0    0.0    NaN    NaN   \n",
       "\n",
       "   id_09  ...                id_31  id_32      id_33           id_34  id_35  \\\n",
       "0    NaN  ...  samsung browser 6.2   32.0  2220x1080  match_status:2      T   \n",
       "1    NaN  ...   mobile safari 11.0   32.0   1334x750  match_status:1      T   \n",
       "2    0.0  ...          chrome 62.0    NaN        NaN             NaN      F   \n",
       "3    NaN  ...          chrome 62.0    NaN        NaN             NaN      F   \n",
       "4    0.0  ...          chrome 62.0   24.0   1280x800  match_status:2      T   \n",
       "\n",
       "  id_36 id_37  id_38  DeviceType                     DeviceInfo  \n",
       "0     F     T      T      mobile  SAMSUNG SM-G892A Build/NRD90M  \n",
       "1     F     F      T      mobile                     iOS Device  \n",
       "2     F     T      T     desktop                        Windows  \n",
       "3     F     T      T     desktop                            NaN  \n",
       "4     F     T      T     desktop                          MacOS  \n",
       "\n",
       "[5 rows x 41 columns]"
      ]
     },
     "execution_count": 5,
     "metadata": {},
     "output_type": "execute_result"
    }
   ],
   "source": [
    "train_identity_df.head()"
   ]
  },
  {
   "cell_type": "code",
   "execution_count": 25,
   "id": "c1253070",
   "metadata": {},
   "outputs": [
    {
     "name": "stdout",
     "output_type": "stream",
     "text": [
      "Total rows (shape[0])               : 144233\n",
      "Total columns (shape[1])            : 41\n",
      "Number of unique TransactionID      : 144233\n",
      "✅ No duplicate TransactionID found in train_identity_df.\n"
     ]
    }
   ],
   "source": [
    "# Count total rows\n",
    "train_identity_shape = train_identity_df.shape\n",
    "\n",
    "# Count unique TransactionID values\n",
    "unique_count = train_identity_df[\"TransactionID\"].nunique()\n",
    "\n",
    "# Print results\n",
    "print(f\"Total rows (shape[0])               : {train_identity_shape[0]}\")\n",
    "print(f\"Total columns (shape[1])            : {train_identity_shape[1]}\")\n",
    "print(f\"Number of unique TransactionID      : {unique_count}\")\n",
    "\n",
    "# Check if total rows equals number of unique TransactionID\n",
    "if train_identity_shape[0] == unique_count:\n",
    "    print(\"✅ No duplicate TransactionID found in train_identity_df.\")\n",
    "else:\n",
    "    print(\"⚠️ Duplicate TransactionID detected in train_identity_df.\")\n"
   ]
  },
  {
   "cell_type": "code",
   "execution_count": 30,
   "id": "2346fa8c",
   "metadata": {},
   "outputs": [
    {
     "data": {
      "text/plain": [
       "Index(['TransactionID', 'id_01', 'id_02', 'id_03', 'id_04', 'id_05', 'id_06',\n",
       "       'id_07', 'id_08', 'id_09', 'id_10', 'id_11', 'id_12', 'id_13', 'id_14',\n",
       "       'id_15', 'id_16', 'id_17', 'id_18', 'id_19', 'id_20', 'id_21', 'id_22',\n",
       "       'id_23', 'id_24', 'id_25', 'id_26', 'id_27', 'id_28', 'id_29', 'id_30',\n",
       "       'id_31', 'id_32', 'id_33', 'id_34', 'id_35', 'id_36', 'id_37', 'id_38',\n",
       "       'DeviceType', 'DeviceInfo'],\n",
       "      dtype='object')"
      ]
     },
     "execution_count": 30,
     "metadata": {},
     "output_type": "execute_result"
    }
   ],
   "source": [
    "# Columns contained in the train identity data frame\n",
    "train_identity_df.columns"
   ]
  },
  {
   "cell_type": "markdown",
   "id": "32d0a811",
   "metadata": {},
   "source": [
    "## Train Transaction DF"
   ]
  },
  {
   "cell_type": "markdown",
   "id": "559df01a",
   "metadata": {},
   "source": [
    "The train_transaction.csv file serves as the core dataset with both:\n",
    "\n",
    "- Predictive features: details of the transaction, payment method, user behavior patterns, etc.\n",
    "\n",
    "- Target variable: isFraud indicating if the transaction was fraudulent.\n",
    "\n",
    "When combined with train_identity.csv (via TransactionID), it gives a fuller picture of each transaction, including device and identity details."
   ]
  },
  {
   "cell_type": "code",
   "execution_count": 20,
   "id": "0872cce5",
   "metadata": {},
   "outputs": [
    {
     "data": {
      "application/vnd.microsoft.datawrangler.viewer.v0+json": {
       "columns": [
        {
         "name": "index",
         "rawType": "int64",
         "type": "integer"
        },
        {
         "name": "TransactionID",
         "rawType": "int64",
         "type": "integer"
        },
        {
         "name": "isFraud",
         "rawType": "int64",
         "type": "integer"
        },
        {
         "name": "TransactionDT",
         "rawType": "int64",
         "type": "integer"
        },
        {
         "name": "TransactionAmt",
         "rawType": "float64",
         "type": "float"
        },
        {
         "name": "ProductCD",
         "rawType": "object",
         "type": "string"
        },
        {
         "name": "card1",
         "rawType": "int64",
         "type": "integer"
        },
        {
         "name": "card2",
         "rawType": "float64",
         "type": "float"
        },
        {
         "name": "card3",
         "rawType": "float64",
         "type": "float"
        },
        {
         "name": "card4",
         "rawType": "object",
         "type": "string"
        },
        {
         "name": "card5",
         "rawType": "float64",
         "type": "float"
        },
        {
         "name": "card6",
         "rawType": "object",
         "type": "string"
        },
        {
         "name": "addr1",
         "rawType": "float64",
         "type": "float"
        },
        {
         "name": "addr2",
         "rawType": "float64",
         "type": "float"
        },
        {
         "name": "dist1",
         "rawType": "float64",
         "type": "float"
        },
        {
         "name": "dist2",
         "rawType": "float64",
         "type": "float"
        },
        {
         "name": "P_emaildomain",
         "rawType": "object",
         "type": "unknown"
        },
        {
         "name": "R_emaildomain",
         "rawType": "object",
         "type": "unknown"
        },
        {
         "name": "C1",
         "rawType": "float64",
         "type": "float"
        },
        {
         "name": "C2",
         "rawType": "float64",
         "type": "float"
        },
        {
         "name": "C3",
         "rawType": "float64",
         "type": "float"
        },
        {
         "name": "C4",
         "rawType": "float64",
         "type": "float"
        },
        {
         "name": "C5",
         "rawType": "float64",
         "type": "float"
        },
        {
         "name": "C6",
         "rawType": "float64",
         "type": "float"
        },
        {
         "name": "C7",
         "rawType": "float64",
         "type": "float"
        },
        {
         "name": "C8",
         "rawType": "float64",
         "type": "float"
        },
        {
         "name": "C9",
         "rawType": "float64",
         "type": "float"
        },
        {
         "name": "C10",
         "rawType": "float64",
         "type": "float"
        },
        {
         "name": "C11",
         "rawType": "float64",
         "type": "float"
        },
        {
         "name": "C12",
         "rawType": "float64",
         "type": "float"
        },
        {
         "name": "C13",
         "rawType": "float64",
         "type": "float"
        },
        {
         "name": "C14",
         "rawType": "float64",
         "type": "float"
        },
        {
         "name": "D1",
         "rawType": "float64",
         "type": "float"
        },
        {
         "name": "D2",
         "rawType": "float64",
         "type": "float"
        },
        {
         "name": "D3",
         "rawType": "float64",
         "type": "float"
        },
        {
         "name": "D4",
         "rawType": "float64",
         "type": "float"
        },
        {
         "name": "D5",
         "rawType": "float64",
         "type": "float"
        },
        {
         "name": "D6",
         "rawType": "float64",
         "type": "float"
        },
        {
         "name": "D7",
         "rawType": "float64",
         "type": "float"
        },
        {
         "name": "D8",
         "rawType": "float64",
         "type": "float"
        },
        {
         "name": "D9",
         "rawType": "float64",
         "type": "float"
        },
        {
         "name": "D10",
         "rawType": "float64",
         "type": "float"
        },
        {
         "name": "D11",
         "rawType": "float64",
         "type": "float"
        },
        {
         "name": "D12",
         "rawType": "float64",
         "type": "float"
        },
        {
         "name": "D13",
         "rawType": "float64",
         "type": "float"
        },
        {
         "name": "D14",
         "rawType": "float64",
         "type": "float"
        },
        {
         "name": "D15",
         "rawType": "float64",
         "type": "float"
        },
        {
         "name": "M1",
         "rawType": "object",
         "type": "unknown"
        },
        {
         "name": "M2",
         "rawType": "object",
         "type": "unknown"
        },
        {
         "name": "M3",
         "rawType": "object",
         "type": "unknown"
        },
        {
         "name": "M4",
         "rawType": "object",
         "type": "unknown"
        },
        {
         "name": "M5",
         "rawType": "object",
         "type": "unknown"
        },
        {
         "name": "M6",
         "rawType": "object",
         "type": "unknown"
        },
        {
         "name": "M7",
         "rawType": "object",
         "type": "unknown"
        },
        {
         "name": "M8",
         "rawType": "object",
         "type": "unknown"
        },
        {
         "name": "M9",
         "rawType": "object",
         "type": "unknown"
        },
        {
         "name": "V1",
         "rawType": "float64",
         "type": "float"
        },
        {
         "name": "V2",
         "rawType": "float64",
         "type": "float"
        },
        {
         "name": "V3",
         "rawType": "float64",
         "type": "float"
        },
        {
         "name": "V4",
         "rawType": "float64",
         "type": "float"
        },
        {
         "name": "V5",
         "rawType": "float64",
         "type": "float"
        },
        {
         "name": "V6",
         "rawType": "float64",
         "type": "float"
        },
        {
         "name": "V7",
         "rawType": "float64",
         "type": "float"
        },
        {
         "name": "V8",
         "rawType": "float64",
         "type": "float"
        },
        {
         "name": "V9",
         "rawType": "float64",
         "type": "float"
        },
        {
         "name": "V10",
         "rawType": "float64",
         "type": "float"
        },
        {
         "name": "V11",
         "rawType": "float64",
         "type": "float"
        },
        {
         "name": "V12",
         "rawType": "float64",
         "type": "float"
        },
        {
         "name": "V13",
         "rawType": "float64",
         "type": "float"
        },
        {
         "name": "V14",
         "rawType": "float64",
         "type": "float"
        },
        {
         "name": "V15",
         "rawType": "float64",
         "type": "float"
        },
        {
         "name": "V16",
         "rawType": "float64",
         "type": "float"
        },
        {
         "name": "V17",
         "rawType": "float64",
         "type": "float"
        },
        {
         "name": "V18",
         "rawType": "float64",
         "type": "float"
        },
        {
         "name": "V19",
         "rawType": "float64",
         "type": "float"
        },
        {
         "name": "V20",
         "rawType": "float64",
         "type": "float"
        },
        {
         "name": "V21",
         "rawType": "float64",
         "type": "float"
        },
        {
         "name": "V22",
         "rawType": "float64",
         "type": "float"
        },
        {
         "name": "V23",
         "rawType": "float64",
         "type": "float"
        },
        {
         "name": "V24",
         "rawType": "float64",
         "type": "float"
        },
        {
         "name": "V25",
         "rawType": "float64",
         "type": "float"
        },
        {
         "name": "V26",
         "rawType": "float64",
         "type": "float"
        },
        {
         "name": "V27",
         "rawType": "float64",
         "type": "float"
        },
        {
         "name": "V28",
         "rawType": "float64",
         "type": "float"
        },
        {
         "name": "V29",
         "rawType": "float64",
         "type": "float"
        },
        {
         "name": "V30",
         "rawType": "float64",
         "type": "float"
        },
        {
         "name": "V31",
         "rawType": "float64",
         "type": "float"
        },
        {
         "name": "V32",
         "rawType": "float64",
         "type": "float"
        },
        {
         "name": "V33",
         "rawType": "float64",
         "type": "float"
        },
        {
         "name": "V34",
         "rawType": "float64",
         "type": "float"
        },
        {
         "name": "V35",
         "rawType": "float64",
         "type": "float"
        },
        {
         "name": "V36",
         "rawType": "float64",
         "type": "float"
        },
        {
         "name": "V37",
         "rawType": "float64",
         "type": "float"
        },
        {
         "name": "V38",
         "rawType": "float64",
         "type": "float"
        },
        {
         "name": "V39",
         "rawType": "float64",
         "type": "float"
        },
        {
         "name": "V40",
         "rawType": "float64",
         "type": "float"
        },
        {
         "name": "V41",
         "rawType": "float64",
         "type": "float"
        },
        {
         "name": "V42",
         "rawType": "float64",
         "type": "float"
        },
        {
         "name": "V43",
         "rawType": "float64",
         "type": "float"
        },
        {
         "name": "V44",
         "rawType": "float64",
         "type": "float"
        },
        {
         "name": "V45",
         "rawType": "float64",
         "type": "float"
        },
        {
         "name": "V46",
         "rawType": "float64",
         "type": "float"
        },
        {
         "name": "V47",
         "rawType": "float64",
         "type": "float"
        },
        {
         "name": "V48",
         "rawType": "float64",
         "type": "float"
        },
        {
         "name": "V49",
         "rawType": "float64",
         "type": "float"
        },
        {
         "name": "V50",
         "rawType": "float64",
         "type": "float"
        },
        {
         "name": "V51",
         "rawType": "float64",
         "type": "float"
        },
        {
         "name": "V52",
         "rawType": "float64",
         "type": "float"
        },
        {
         "name": "V53",
         "rawType": "float64",
         "type": "float"
        },
        {
         "name": "V54",
         "rawType": "float64",
         "type": "float"
        },
        {
         "name": "V55",
         "rawType": "float64",
         "type": "float"
        },
        {
         "name": "V56",
         "rawType": "float64",
         "type": "float"
        },
        {
         "name": "V57",
         "rawType": "float64",
         "type": "float"
        },
        {
         "name": "V58",
         "rawType": "float64",
         "type": "float"
        },
        {
         "name": "V59",
         "rawType": "float64",
         "type": "float"
        },
        {
         "name": "V60",
         "rawType": "float64",
         "type": "float"
        },
        {
         "name": "V61",
         "rawType": "float64",
         "type": "float"
        },
        {
         "name": "V62",
         "rawType": "float64",
         "type": "float"
        },
        {
         "name": "V63",
         "rawType": "float64",
         "type": "float"
        },
        {
         "name": "V64",
         "rawType": "float64",
         "type": "float"
        },
        {
         "name": "V65",
         "rawType": "float64",
         "type": "float"
        },
        {
         "name": "V66",
         "rawType": "float64",
         "type": "float"
        },
        {
         "name": "V67",
         "rawType": "float64",
         "type": "float"
        },
        {
         "name": "V68",
         "rawType": "float64",
         "type": "float"
        },
        {
         "name": "V69",
         "rawType": "float64",
         "type": "float"
        },
        {
         "name": "V70",
         "rawType": "float64",
         "type": "float"
        },
        {
         "name": "V71",
         "rawType": "float64",
         "type": "float"
        },
        {
         "name": "V72",
         "rawType": "float64",
         "type": "float"
        },
        {
         "name": "V73",
         "rawType": "float64",
         "type": "float"
        },
        {
         "name": "V74",
         "rawType": "float64",
         "type": "float"
        },
        {
         "name": "V75",
         "rawType": "float64",
         "type": "float"
        },
        {
         "name": "V76",
         "rawType": "float64",
         "type": "float"
        },
        {
         "name": "V77",
         "rawType": "float64",
         "type": "float"
        },
        {
         "name": "V78",
         "rawType": "float64",
         "type": "float"
        },
        {
         "name": "V79",
         "rawType": "float64",
         "type": "float"
        },
        {
         "name": "V80",
         "rawType": "float64",
         "type": "float"
        },
        {
         "name": "V81",
         "rawType": "float64",
         "type": "float"
        },
        {
         "name": "V82",
         "rawType": "float64",
         "type": "float"
        },
        {
         "name": "V83",
         "rawType": "float64",
         "type": "float"
        },
        {
         "name": "V84",
         "rawType": "float64",
         "type": "float"
        },
        {
         "name": "V85",
         "rawType": "float64",
         "type": "float"
        },
        {
         "name": "V86",
         "rawType": "float64",
         "type": "float"
        },
        {
         "name": "V87",
         "rawType": "float64",
         "type": "float"
        },
        {
         "name": "V88",
         "rawType": "float64",
         "type": "float"
        },
        {
         "name": "V89",
         "rawType": "float64",
         "type": "float"
        },
        {
         "name": "V90",
         "rawType": "float64",
         "type": "float"
        },
        {
         "name": "V91",
         "rawType": "float64",
         "type": "float"
        },
        {
         "name": "V92",
         "rawType": "float64",
         "type": "float"
        },
        {
         "name": "V93",
         "rawType": "float64",
         "type": "float"
        },
        {
         "name": "V94",
         "rawType": "float64",
         "type": "float"
        },
        {
         "name": "V95",
         "rawType": "float64",
         "type": "float"
        },
        {
         "name": "V96",
         "rawType": "float64",
         "type": "float"
        },
        {
         "name": "V97",
         "rawType": "float64",
         "type": "float"
        },
        {
         "name": "V98",
         "rawType": "float64",
         "type": "float"
        },
        {
         "name": "V99",
         "rawType": "float64",
         "type": "float"
        },
        {
         "name": "V100",
         "rawType": "float64",
         "type": "float"
        },
        {
         "name": "V101",
         "rawType": "float64",
         "type": "float"
        },
        {
         "name": "V102",
         "rawType": "float64",
         "type": "float"
        },
        {
         "name": "V103",
         "rawType": "float64",
         "type": "float"
        },
        {
         "name": "V104",
         "rawType": "float64",
         "type": "float"
        },
        {
         "name": "V105",
         "rawType": "float64",
         "type": "float"
        },
        {
         "name": "V106",
         "rawType": "float64",
         "type": "float"
        },
        {
         "name": "V107",
         "rawType": "float64",
         "type": "float"
        },
        {
         "name": "V108",
         "rawType": "float64",
         "type": "float"
        },
        {
         "name": "V109",
         "rawType": "float64",
         "type": "float"
        },
        {
         "name": "V110",
         "rawType": "float64",
         "type": "float"
        },
        {
         "name": "V111",
         "rawType": "float64",
         "type": "float"
        },
        {
         "name": "V112",
         "rawType": "float64",
         "type": "float"
        },
        {
         "name": "V113",
         "rawType": "float64",
         "type": "float"
        },
        {
         "name": "V114",
         "rawType": "float64",
         "type": "float"
        },
        {
         "name": "V115",
         "rawType": "float64",
         "type": "float"
        },
        {
         "name": "V116",
         "rawType": "float64",
         "type": "float"
        },
        {
         "name": "V117",
         "rawType": "float64",
         "type": "float"
        },
        {
         "name": "V118",
         "rawType": "float64",
         "type": "float"
        },
        {
         "name": "V119",
         "rawType": "float64",
         "type": "float"
        },
        {
         "name": "V120",
         "rawType": "float64",
         "type": "float"
        },
        {
         "name": "V121",
         "rawType": "float64",
         "type": "float"
        },
        {
         "name": "V122",
         "rawType": "float64",
         "type": "float"
        },
        {
         "name": "V123",
         "rawType": "float64",
         "type": "float"
        },
        {
         "name": "V124",
         "rawType": "float64",
         "type": "float"
        },
        {
         "name": "V125",
         "rawType": "float64",
         "type": "float"
        },
        {
         "name": "V126",
         "rawType": "float64",
         "type": "float"
        },
        {
         "name": "V127",
         "rawType": "float64",
         "type": "float"
        },
        {
         "name": "V128",
         "rawType": "float64",
         "type": "float"
        },
        {
         "name": "V129",
         "rawType": "float64",
         "type": "float"
        },
        {
         "name": "V130",
         "rawType": "float64",
         "type": "float"
        },
        {
         "name": "V131",
         "rawType": "float64",
         "type": "float"
        },
        {
         "name": "V132",
         "rawType": "float64",
         "type": "float"
        },
        {
         "name": "V133",
         "rawType": "float64",
         "type": "float"
        },
        {
         "name": "V134",
         "rawType": "float64",
         "type": "float"
        },
        {
         "name": "V135",
         "rawType": "float64",
         "type": "float"
        },
        {
         "name": "V136",
         "rawType": "float64",
         "type": "float"
        },
        {
         "name": "V137",
         "rawType": "float64",
         "type": "float"
        },
        {
         "name": "V138",
         "rawType": "float64",
         "type": "float"
        },
        {
         "name": "V139",
         "rawType": "float64",
         "type": "float"
        },
        {
         "name": "V140",
         "rawType": "float64",
         "type": "float"
        },
        {
         "name": "V141",
         "rawType": "float64",
         "type": "float"
        },
        {
         "name": "V142",
         "rawType": "float64",
         "type": "float"
        },
        {
         "name": "V143",
         "rawType": "float64",
         "type": "float"
        },
        {
         "name": "V144",
         "rawType": "float64",
         "type": "float"
        },
        {
         "name": "V145",
         "rawType": "float64",
         "type": "float"
        },
        {
         "name": "V146",
         "rawType": "float64",
         "type": "float"
        },
        {
         "name": "V147",
         "rawType": "float64",
         "type": "float"
        },
        {
         "name": "V148",
         "rawType": "float64",
         "type": "float"
        },
        {
         "name": "V149",
         "rawType": "float64",
         "type": "float"
        },
        {
         "name": "V150",
         "rawType": "float64",
         "type": "float"
        },
        {
         "name": "V151",
         "rawType": "float64",
         "type": "float"
        },
        {
         "name": "V152",
         "rawType": "float64",
         "type": "float"
        },
        {
         "name": "V153",
         "rawType": "float64",
         "type": "float"
        },
        {
         "name": "V154",
         "rawType": "float64",
         "type": "float"
        },
        {
         "name": "V155",
         "rawType": "float64",
         "type": "float"
        },
        {
         "name": "V156",
         "rawType": "float64",
         "type": "float"
        },
        {
         "name": "V157",
         "rawType": "float64",
         "type": "float"
        },
        {
         "name": "V158",
         "rawType": "float64",
         "type": "float"
        },
        {
         "name": "V159",
         "rawType": "float64",
         "type": "float"
        },
        {
         "name": "V160",
         "rawType": "float64",
         "type": "float"
        },
        {
         "name": "V161",
         "rawType": "float64",
         "type": "float"
        },
        {
         "name": "V162",
         "rawType": "float64",
         "type": "float"
        },
        {
         "name": "V163",
         "rawType": "float64",
         "type": "float"
        },
        {
         "name": "V164",
         "rawType": "float64",
         "type": "float"
        },
        {
         "name": "V165",
         "rawType": "float64",
         "type": "float"
        },
        {
         "name": "V166",
         "rawType": "float64",
         "type": "float"
        },
        {
         "name": "V167",
         "rawType": "float64",
         "type": "float"
        },
        {
         "name": "V168",
         "rawType": "float64",
         "type": "float"
        },
        {
         "name": "V169",
         "rawType": "float64",
         "type": "float"
        },
        {
         "name": "V170",
         "rawType": "float64",
         "type": "float"
        },
        {
         "name": "V171",
         "rawType": "float64",
         "type": "float"
        },
        {
         "name": "V172",
         "rawType": "float64",
         "type": "float"
        },
        {
         "name": "V173",
         "rawType": "float64",
         "type": "float"
        },
        {
         "name": "V174",
         "rawType": "float64",
         "type": "float"
        },
        {
         "name": "V175",
         "rawType": "float64",
         "type": "float"
        },
        {
         "name": "V176",
         "rawType": "float64",
         "type": "float"
        },
        {
         "name": "V177",
         "rawType": "float64",
         "type": "float"
        },
        {
         "name": "V178",
         "rawType": "float64",
         "type": "float"
        },
        {
         "name": "V179",
         "rawType": "float64",
         "type": "float"
        },
        {
         "name": "V180",
         "rawType": "float64",
         "type": "float"
        },
        {
         "name": "V181",
         "rawType": "float64",
         "type": "float"
        },
        {
         "name": "V182",
         "rawType": "float64",
         "type": "float"
        },
        {
         "name": "V183",
         "rawType": "float64",
         "type": "float"
        },
        {
         "name": "V184",
         "rawType": "float64",
         "type": "float"
        },
        {
         "name": "V185",
         "rawType": "float64",
         "type": "float"
        },
        {
         "name": "V186",
         "rawType": "float64",
         "type": "float"
        },
        {
         "name": "V187",
         "rawType": "float64",
         "type": "float"
        },
        {
         "name": "V188",
         "rawType": "float64",
         "type": "float"
        },
        {
         "name": "V189",
         "rawType": "float64",
         "type": "float"
        },
        {
         "name": "V190",
         "rawType": "float64",
         "type": "float"
        },
        {
         "name": "V191",
         "rawType": "float64",
         "type": "float"
        },
        {
         "name": "V192",
         "rawType": "float64",
         "type": "float"
        },
        {
         "name": "V193",
         "rawType": "float64",
         "type": "float"
        },
        {
         "name": "V194",
         "rawType": "float64",
         "type": "float"
        },
        {
         "name": "V195",
         "rawType": "float64",
         "type": "float"
        },
        {
         "name": "V196",
         "rawType": "float64",
         "type": "float"
        },
        {
         "name": "V197",
         "rawType": "float64",
         "type": "float"
        },
        {
         "name": "V198",
         "rawType": "float64",
         "type": "float"
        },
        {
         "name": "V199",
         "rawType": "float64",
         "type": "float"
        },
        {
         "name": "V200",
         "rawType": "float64",
         "type": "float"
        },
        {
         "name": "V201",
         "rawType": "float64",
         "type": "float"
        },
        {
         "name": "V202",
         "rawType": "float64",
         "type": "float"
        },
        {
         "name": "V203",
         "rawType": "float64",
         "type": "float"
        },
        {
         "name": "V204",
         "rawType": "float64",
         "type": "float"
        },
        {
         "name": "V205",
         "rawType": "float64",
         "type": "float"
        },
        {
         "name": "V206",
         "rawType": "float64",
         "type": "float"
        },
        {
         "name": "V207",
         "rawType": "float64",
         "type": "float"
        },
        {
         "name": "V208",
         "rawType": "float64",
         "type": "float"
        },
        {
         "name": "V209",
         "rawType": "float64",
         "type": "float"
        },
        {
         "name": "V210",
         "rawType": "float64",
         "type": "float"
        },
        {
         "name": "V211",
         "rawType": "float64",
         "type": "float"
        },
        {
         "name": "V212",
         "rawType": "float64",
         "type": "float"
        },
        {
         "name": "V213",
         "rawType": "float64",
         "type": "float"
        },
        {
         "name": "V214",
         "rawType": "float64",
         "type": "float"
        },
        {
         "name": "V215",
         "rawType": "float64",
         "type": "float"
        },
        {
         "name": "V216",
         "rawType": "float64",
         "type": "float"
        },
        {
         "name": "V217",
         "rawType": "float64",
         "type": "float"
        },
        {
         "name": "V218",
         "rawType": "float64",
         "type": "float"
        },
        {
         "name": "V219",
         "rawType": "float64",
         "type": "float"
        },
        {
         "name": "V220",
         "rawType": "float64",
         "type": "float"
        },
        {
         "name": "V221",
         "rawType": "float64",
         "type": "float"
        },
        {
         "name": "V222",
         "rawType": "float64",
         "type": "float"
        },
        {
         "name": "V223",
         "rawType": "float64",
         "type": "float"
        },
        {
         "name": "V224",
         "rawType": "float64",
         "type": "float"
        },
        {
         "name": "V225",
         "rawType": "float64",
         "type": "float"
        },
        {
         "name": "V226",
         "rawType": "float64",
         "type": "float"
        },
        {
         "name": "V227",
         "rawType": "float64",
         "type": "float"
        },
        {
         "name": "V228",
         "rawType": "float64",
         "type": "float"
        },
        {
         "name": "V229",
         "rawType": "float64",
         "type": "float"
        },
        {
         "name": "V230",
         "rawType": "float64",
         "type": "float"
        },
        {
         "name": "V231",
         "rawType": "float64",
         "type": "float"
        },
        {
         "name": "V232",
         "rawType": "float64",
         "type": "float"
        },
        {
         "name": "V233",
         "rawType": "float64",
         "type": "float"
        },
        {
         "name": "V234",
         "rawType": "float64",
         "type": "float"
        },
        {
         "name": "V235",
         "rawType": "float64",
         "type": "float"
        },
        {
         "name": "V236",
         "rawType": "float64",
         "type": "float"
        },
        {
         "name": "V237",
         "rawType": "float64",
         "type": "float"
        },
        {
         "name": "V238",
         "rawType": "float64",
         "type": "float"
        },
        {
         "name": "V239",
         "rawType": "float64",
         "type": "float"
        },
        {
         "name": "V240",
         "rawType": "float64",
         "type": "float"
        },
        {
         "name": "V241",
         "rawType": "float64",
         "type": "float"
        },
        {
         "name": "V242",
         "rawType": "float64",
         "type": "float"
        },
        {
         "name": "V243",
         "rawType": "float64",
         "type": "float"
        },
        {
         "name": "V244",
         "rawType": "float64",
         "type": "float"
        },
        {
         "name": "V245",
         "rawType": "float64",
         "type": "float"
        },
        {
         "name": "V246",
         "rawType": "float64",
         "type": "float"
        },
        {
         "name": "V247",
         "rawType": "float64",
         "type": "float"
        },
        {
         "name": "V248",
         "rawType": "float64",
         "type": "float"
        },
        {
         "name": "V249",
         "rawType": "float64",
         "type": "float"
        },
        {
         "name": "V250",
         "rawType": "float64",
         "type": "float"
        },
        {
         "name": "V251",
         "rawType": "float64",
         "type": "float"
        },
        {
         "name": "V252",
         "rawType": "float64",
         "type": "float"
        },
        {
         "name": "V253",
         "rawType": "float64",
         "type": "float"
        },
        {
         "name": "V254",
         "rawType": "float64",
         "type": "float"
        },
        {
         "name": "V255",
         "rawType": "float64",
         "type": "float"
        },
        {
         "name": "V256",
         "rawType": "float64",
         "type": "float"
        },
        {
         "name": "V257",
         "rawType": "float64",
         "type": "float"
        },
        {
         "name": "V258",
         "rawType": "float64",
         "type": "float"
        },
        {
         "name": "V259",
         "rawType": "float64",
         "type": "float"
        },
        {
         "name": "V260",
         "rawType": "float64",
         "type": "float"
        },
        {
         "name": "V261",
         "rawType": "float64",
         "type": "float"
        },
        {
         "name": "V262",
         "rawType": "float64",
         "type": "float"
        },
        {
         "name": "V263",
         "rawType": "float64",
         "type": "float"
        },
        {
         "name": "V264",
         "rawType": "float64",
         "type": "float"
        },
        {
         "name": "V265",
         "rawType": "float64",
         "type": "float"
        },
        {
         "name": "V266",
         "rawType": "float64",
         "type": "float"
        },
        {
         "name": "V267",
         "rawType": "float64",
         "type": "float"
        },
        {
         "name": "V268",
         "rawType": "float64",
         "type": "float"
        },
        {
         "name": "V269",
         "rawType": "float64",
         "type": "float"
        },
        {
         "name": "V270",
         "rawType": "float64",
         "type": "float"
        },
        {
         "name": "V271",
         "rawType": "float64",
         "type": "float"
        },
        {
         "name": "V272",
         "rawType": "float64",
         "type": "float"
        },
        {
         "name": "V273",
         "rawType": "float64",
         "type": "float"
        },
        {
         "name": "V274",
         "rawType": "float64",
         "type": "float"
        },
        {
         "name": "V275",
         "rawType": "float64",
         "type": "float"
        },
        {
         "name": "V276",
         "rawType": "float64",
         "type": "float"
        },
        {
         "name": "V277",
         "rawType": "float64",
         "type": "float"
        },
        {
         "name": "V278",
         "rawType": "float64",
         "type": "float"
        },
        {
         "name": "V279",
         "rawType": "float64",
         "type": "float"
        },
        {
         "name": "V280",
         "rawType": "float64",
         "type": "float"
        },
        {
         "name": "V281",
         "rawType": "float64",
         "type": "float"
        },
        {
         "name": "V282",
         "rawType": "float64",
         "type": "float"
        },
        {
         "name": "V283",
         "rawType": "float64",
         "type": "float"
        },
        {
         "name": "V284",
         "rawType": "float64",
         "type": "float"
        },
        {
         "name": "V285",
         "rawType": "float64",
         "type": "float"
        },
        {
         "name": "V286",
         "rawType": "float64",
         "type": "float"
        },
        {
         "name": "V287",
         "rawType": "float64",
         "type": "float"
        },
        {
         "name": "V288",
         "rawType": "float64",
         "type": "float"
        },
        {
         "name": "V289",
         "rawType": "float64",
         "type": "float"
        },
        {
         "name": "V290",
         "rawType": "float64",
         "type": "float"
        },
        {
         "name": "V291",
         "rawType": "float64",
         "type": "float"
        },
        {
         "name": "V292",
         "rawType": "float64",
         "type": "float"
        },
        {
         "name": "V293",
         "rawType": "float64",
         "type": "float"
        },
        {
         "name": "V294",
         "rawType": "float64",
         "type": "float"
        },
        {
         "name": "V295",
         "rawType": "float64",
         "type": "float"
        },
        {
         "name": "V296",
         "rawType": "float64",
         "type": "float"
        },
        {
         "name": "V297",
         "rawType": "float64",
         "type": "float"
        },
        {
         "name": "V298",
         "rawType": "float64",
         "type": "float"
        },
        {
         "name": "V299",
         "rawType": "float64",
         "type": "float"
        },
        {
         "name": "V300",
         "rawType": "float64",
         "type": "float"
        },
        {
         "name": "V301",
         "rawType": "float64",
         "type": "float"
        },
        {
         "name": "V302",
         "rawType": "float64",
         "type": "float"
        },
        {
         "name": "V303",
         "rawType": "float64",
         "type": "float"
        },
        {
         "name": "V304",
         "rawType": "float64",
         "type": "float"
        },
        {
         "name": "V305",
         "rawType": "float64",
         "type": "float"
        },
        {
         "name": "V306",
         "rawType": "float64",
         "type": "float"
        },
        {
         "name": "V307",
         "rawType": "float64",
         "type": "float"
        },
        {
         "name": "V308",
         "rawType": "float64",
         "type": "float"
        },
        {
         "name": "V309",
         "rawType": "float64",
         "type": "float"
        },
        {
         "name": "V310",
         "rawType": "float64",
         "type": "float"
        },
        {
         "name": "V311",
         "rawType": "float64",
         "type": "float"
        },
        {
         "name": "V312",
         "rawType": "float64",
         "type": "float"
        },
        {
         "name": "V313",
         "rawType": "float64",
         "type": "float"
        },
        {
         "name": "V314",
         "rawType": "float64",
         "type": "float"
        },
        {
         "name": "V315",
         "rawType": "float64",
         "type": "float"
        },
        {
         "name": "V316",
         "rawType": "float64",
         "type": "float"
        },
        {
         "name": "V317",
         "rawType": "float64",
         "type": "float"
        },
        {
         "name": "V318",
         "rawType": "float64",
         "type": "float"
        },
        {
         "name": "V319",
         "rawType": "float64",
         "type": "float"
        },
        {
         "name": "V320",
         "rawType": "float64",
         "type": "float"
        },
        {
         "name": "V321",
         "rawType": "float64",
         "type": "float"
        },
        {
         "name": "V322",
         "rawType": "float64",
         "type": "float"
        },
        {
         "name": "V323",
         "rawType": "float64",
         "type": "float"
        },
        {
         "name": "V324",
         "rawType": "float64",
         "type": "float"
        },
        {
         "name": "V325",
         "rawType": "float64",
         "type": "float"
        },
        {
         "name": "V326",
         "rawType": "float64",
         "type": "float"
        },
        {
         "name": "V327",
         "rawType": "float64",
         "type": "float"
        },
        {
         "name": "V328",
         "rawType": "float64",
         "type": "float"
        },
        {
         "name": "V329",
         "rawType": "float64",
         "type": "float"
        },
        {
         "name": "V330",
         "rawType": "float64",
         "type": "float"
        },
        {
         "name": "V331",
         "rawType": "float64",
         "type": "float"
        },
        {
         "name": "V332",
         "rawType": "float64",
         "type": "float"
        },
        {
         "name": "V333",
         "rawType": "float64",
         "type": "float"
        },
        {
         "name": "V334",
         "rawType": "float64",
         "type": "float"
        },
        {
         "name": "V335",
         "rawType": "float64",
         "type": "float"
        },
        {
         "name": "V336",
         "rawType": "float64",
         "type": "float"
        },
        {
         "name": "V337",
         "rawType": "float64",
         "type": "float"
        },
        {
         "name": "V338",
         "rawType": "float64",
         "type": "float"
        },
        {
         "name": "V339",
         "rawType": "float64",
         "type": "float"
        }
       ],
       "ref": "1ce429bf-c0c6-4ed4-907b-8ab959546f1f",
       "rows": [
        [
         "0",
         "2987000",
         "0",
         "86400",
         "68.5",
         "W",
         "13926",
         null,
         "150.0",
         "discover",
         "142.0",
         "credit",
         "315.0",
         "87.0",
         "19.0",
         null,
         null,
         null,
         "1.0",
         "1.0",
         "0.0",
         "0.0",
         "0.0",
         "1.0",
         "0.0",
         "0.0",
         "1.0",
         "0.0",
         "2.0",
         "0.0",
         "1.0",
         "1.0",
         "14.0",
         null,
         "13.0",
         null,
         null,
         null,
         null,
         null,
         null,
         "13.0",
         "13.0",
         null,
         null,
         null,
         "0.0",
         "T",
         "T",
         "T",
         "M2",
         "F",
         "T",
         null,
         null,
         null,
         "1.0",
         "1.0",
         "1.0",
         "1.0",
         "1.0",
         "1.0",
         "1.0",
         "1.0",
         "1.0",
         "0.0",
         "0.0",
         "1.0",
         "1.0",
         "1.0",
         "0.0",
         "0.0",
         "0.0",
         "0.0",
         "1.0",
         "1.0",
         "0.0",
         "0.0",
         "1.0",
         "1.0",
         "1.0",
         "1.0",
         "0.0",
         "0.0",
         "0.0",
         "0.0",
         "0.0",
         "0.0",
         "0.0",
         "0.0",
         null,
         null,
         null,
         null,
         null,
         null,
         null,
         null,
         null,
         null,
         null,
         null,
         null,
         null,
         null,
         null,
         null,
         null,
         "1.0",
         "1.0",
         "1.0",
         "1.0",
         "0.0",
         "0.0",
         "0.0",
         "0.0",
         "1.0",
         "1.0",
         "0.0",
         "0.0",
         "1.0",
         "1.0",
         "1.0",
         "0.0",
         "0.0",
         "0.0",
         "0.0",
         "0.0",
         "0.0",
         "0.0",
         "1.0",
         "1.0",
         "1.0",
         "1.0",
         "0.0",
         "0.0",
         "0.0",
         "0.0",
         "0.0",
         "0.0",
         "0.0",
         "1.0",
         "1.0",
         "1.0",
         "0.0",
         "0.0",
         "0.0",
         "0.0",
         "0.0",
         "0.0",
         "0.0",
         "1.0",
         "0.0",
         "0.0",
         "0.0",
         "0.0",
         "0.0",
         "1.0",
         "0.0",
         "0.0",
         "0.0",
         "0.0",
         "1.0",
         "1.0",
         "1.0",
         "1.0",
         "1.0",
         "1.0",
         "1.0",
         "1.0",
         "1.0",
         "1.0",
         "1.0",
         "1.0",
         "1.0",
         "1.0",
         "1.0",
         "1.0",
         "1.0",
         "1.0",
         "1.0",
         "0.0",
         "117.0",
         "0.0",
         "0.0",
         "0.0",
         "0.0",
         "0.0",
         "117.0",
         "0.0",
         "0.0",
         "0.0",
         "0.0",
         null,
         null,
         null,
         null,
         null,
         null,
         null,
         null,
         null,
         null,
         null,
         null,
         null,
         null,
         null,
         null,
         null,
         null,
         null,
         null,
         null,
         null,
         null,
         null,
         null,
         null,
         null,
         null,
         null,
         null,
         null,
         null,
         null,
         null,
         null,
         null,
         null,
         null,
         null,
         null,
         null,
         null,
         null,
         null,
         null,
         null,
         null,
         null,
         null,
         null,
         null,
         null,
         null,
         null,
         null,
         null,
         null,
         null,
         null,
         null,
         null,
         null,
         null,
         null,
         null,
         null,
         null,
         null,
         null,
         null,
         null,
         null,
         null,
         null,
         null,
         null,
         null,
         null,
         null,
         null,
         null,
         null,
         null,
         null,
         null,
         null,
         null,
         null,
         null,
         null,
         null,
         null,
         null,
         null,
         null,
         null,
         null,
         null,
         null,
         null,
         null,
         null,
         null,
         null,
         null,
         null,
         null,
         null,
         null,
         null,
         null,
         null,
         null,
         null,
         null,
         null,
         null,
         null,
         null,
         null,
         null,
         null,
         null,
         null,
         null,
         null,
         null,
         null,
         null,
         null,
         null,
         null,
         null,
         null,
         null,
         null,
         null,
         null,
         null,
         null,
         null,
         "0.0",
         "0.0",
         "0.0",
         "1.0",
         "1.0",
         "0.0",
         "0.0",
         "0.0",
         "0.0",
         "0.0",
         "0.0",
         "1.0",
         "1.0",
         "1.0",
         "0.0",
         "1.0",
         "0.0",
         "0.0",
         "0.0",
         "0.0",
         "0.0",
         "0.0",
         "0.0",
         "0.0",
         "0.0",
         "0.0",
         "1.0",
         "0.0",
         "117.0",
         "0.0",
         "0.0",
         "0.0",
         "0.0",
         "0.0",
         "0.0",
         "0.0",
         "0.0",
         "0.0",
         "117.0",
         "0.0",
         "0.0",
         "0.0",
         "0.0",
         null,
         null,
         null,
         null,
         null,
         null,
         null,
         null,
         null,
         null,
         null,
         null,
         null,
         null,
         null,
         null,
         null,
         null
        ],
        [
         "1",
         "2987001",
         "0",
         "86401",
         "29.0",
         "W",
         "2755",
         "404.0",
         "150.0",
         "mastercard",
         "102.0",
         "credit",
         "325.0",
         "87.0",
         null,
         null,
         "gmail.com",
         null,
         "1.0",
         "1.0",
         "0.0",
         "0.0",
         "0.0",
         "1.0",
         "0.0",
         "0.0",
         "0.0",
         "0.0",
         "1.0",
         "0.0",
         "1.0",
         "1.0",
         "0.0",
         null,
         null,
         "0.0",
         null,
         null,
         null,
         null,
         null,
         "0.0",
         null,
         null,
         null,
         null,
         "0.0",
         null,
         null,
         null,
         "M0",
         "T",
         "T",
         null,
         null,
         null,
         null,
         null,
         null,
         null,
         null,
         null,
         null,
         null,
         null,
         null,
         null,
         "0.0",
         "0.0",
         "1.0",
         "0.0",
         "0.0",
         "0.0",
         "0.0",
         "1.0",
         "1.0",
         "0.0",
         "0.0",
         "1.0",
         "1.0",
         "1.0",
         "1.0",
         "0.0",
         "0.0",
         "0.0",
         "0.0",
         "0.0",
         "0.0",
         "0.0",
         "0.0",
         "0.0",
         "0.0",
         "1.0",
         "1.0",
         "0.0",
         "0.0",
         "1.0",
         "0.0",
         "0.0",
         "1.0",
         "1.0",
         "1.0",
         "1.0",
         "0.0",
         "0.0",
         "0.0",
         "0.0",
         "0.0",
         "0.0",
         "0.0",
         "1.0",
         "1.0",
         "0.0",
         "0.0",
         "0.0",
         "0.0",
         "1.0",
         "1.0",
         "0.0",
         "0.0",
         "1.0",
         "1.0",
         "1.0",
         "0.0",
         "0.0",
         "0.0",
         "0.0",
         "0.0",
         "0.0",
         "0.0",
         "0.0",
         "0.0",
         "1.0",
         "1.0",
         "0.0",
         "0.0",
         "0.0",
         "1.0",
         "1.0",
         "0.0",
         "0.0",
         "1.0",
         "1.0",
         "1.0",
         "0.0",
         "0.0",
         "0.0",
         "0.0",
         "0.0",
         "0.0",
         "0.0",
         "0.0",
         "0.0",
         "0.0",
         "0.0",
         "0.0",
         "0.0",
         "0.0",
         "0.0",
         "0.0",
         "0.0",
         "0.0",
         "1.0",
         "1.0",
         "1.0",
         "1.0",
         "1.0",
         "1.0",
         "1.0",
         "1.0",
         "1.0",
         "1.0",
         "1.0",
         "1.0",
         "1.0",
         "1.0",
         "1.0",
         "1.0",
         "1.0",
         "1.0",
         "1.0",
         "0.0",
         "0.0",
         "0.0",
         "0.0",
         "0.0",
         "0.0",
         "0.0",
         "0.0",
         "0.0",
         "0.0",
         "0.0",
         "0.0",
         null,
         null,
         null,
         null,
         null,
         null,
         null,
         null,
         null,
         null,
         null,
         null,
         null,
         null,
         null,
         null,
         null,
         null,
         null,
         null,
         null,
         null,
         null,
         null,
         null,
         null,
         null,
         null,
         null,
         null,
         null,
         null,
         null,
         null,
         null,
         null,
         null,
         null,
         null,
         null,
         null,
         null,
         null,
         null,
         null,
         null,
         null,
         null,
         null,
         null,
         null,
         null,
         null,
         null,
         null,
         null,
         null,
         null,
         null,
         null,
         null,
         null,
         null,
         null,
         null,
         null,
         null,
         null,
         null,
         null,
         null,
         null,
         null,
         null,
         null,
         null,
         null,
         null,
         null,
         null,
         null,
         null,
         null,
         null,
         null,
         null,
         null,
         null,
         null,
         null,
         null,
         null,
         null,
         null,
         null,
         null,
         null,
         null,
         null,
         null,
         null,
         null,
         null,
         null,
         null,
         null,
         null,
         null,
         null,
         null,
         null,
         null,
         null,
         null,
         null,
         null,
         null,
         null,
         null,
         null,
         null,
         null,
         null,
         null,
         null,
         null,
         null,
         null,
         null,
         null,
         null,
         null,
         null,
         null,
         null,
         null,
         null,
         null,
         null,
         null,
         null,
         "0.0",
         "0.0",
         "0.0",
         "1.0",
         "1.0",
         "0.0",
         "0.0",
         "0.0",
         "0.0",
         "0.0",
         "0.0",
         "1.0",
         "1.0",
         "1.0",
         "0.0",
         "0.0",
         "0.0",
         "0.0",
         "0.0",
         "0.0",
         "0.0",
         "0.0",
         "0.0",
         "0.0",
         "0.0",
         "0.0",
         "1.0",
         "0.0",
         "0.0",
         "0.0",
         "0.0",
         "0.0",
         "0.0",
         "0.0",
         "0.0",
         "0.0",
         "0.0",
         "0.0",
         "0.0",
         "0.0",
         "0.0",
         "0.0",
         "0.0",
         null,
         null,
         null,
         null,
         null,
         null,
         null,
         null,
         null,
         null,
         null,
         null,
         null,
         null,
         null,
         null,
         null,
         null
        ],
        [
         "2",
         "2987002",
         "0",
         "86469",
         "59.0",
         "W",
         "4663",
         "490.0",
         "150.0",
         "visa",
         "166.0",
         "debit",
         "330.0",
         "87.0",
         "287.0",
         null,
         "outlook.com",
         null,
         "1.0",
         "1.0",
         "0.0",
         "0.0",
         "0.0",
         "1.0",
         "0.0",
         "0.0",
         "1.0",
         "0.0",
         "1.0",
         "0.0",
         "1.0",
         "1.0",
         "0.0",
         null,
         null,
         "0.0",
         null,
         null,
         null,
         null,
         null,
         "0.0",
         "315.0",
         null,
         null,
         null,
         "315.0",
         "T",
         "T",
         "T",
         "M0",
         "F",
         "F",
         "F",
         "F",
         "F",
         "1.0",
         "1.0",
         "1.0",
         "1.0",
         "1.0",
         "1.0",
         "1.0",
         "1.0",
         "1.0",
         "0.0",
         "0.0",
         "1.0",
         "1.0",
         "1.0",
         "0.0",
         "0.0",
         "0.0",
         "0.0",
         "1.0",
         "1.0",
         "0.0",
         "0.0",
         "1.0",
         "1.0",
         "1.0",
         "1.0",
         "0.0",
         "0.0",
         "0.0",
         "0.0",
         "0.0",
         "0.0",
         "0.0",
         "0.0",
         "1.0",
         "1.0",
         "1.0",
         "1.0",
         "0.0",
         "0.0",
         "1.0",
         "0.0",
         "0.0",
         "1.0",
         "1.0",
         "1.0",
         "1.0",
         "0.0",
         "0.0",
         "0.0",
         "0.0",
         "0.0",
         "1.0",
         "1.0",
         "1.0",
         "1.0",
         "0.0",
         "0.0",
         "0.0",
         "0.0",
         "1.0",
         "1.0",
         "0.0",
         "0.0",
         "1.0",
         "1.0",
         "1.0",
         "0.0",
         "0.0",
         "0.0",
         "0.0",
         "0.0",
         "0.0",
         "0.0",
         "1.0",
         "1.0",
         "1.0",
         "1.0",
         "0.0",
         "0.0",
         "0.0",
         "1.0",
         "1.0",
         "0.0",
         "0.0",
         "1.0",
         "1.0",
         "1.0",
         "0.0",
         "0.0",
         "0.0",
         "0.0",
         "0.0",
         "0.0",
         "0.0",
         "0.0",
         "0.0",
         "0.0",
         "0.0",
         "0.0",
         "0.0",
         "0.0",
         "0.0",
         "0.0",
         "0.0",
         "0.0",
         "1.0",
         "1.0",
         "1.0",
         "1.0",
         "1.0",
         "1.0",
         "1.0",
         "1.0",
         "1.0",
         "1.0",
         "1.0",
         "1.0",
         "1.0",
         "1.0",
         "1.0",
         "1.0",
         "1.0",
         "1.0",
         "1.0",
         "0.0",
         "0.0",
         "0.0",
         "0.0",
         "0.0",
         "0.0",
         "0.0",
         "0.0",
         "0.0",
         "0.0",
         "0.0",
         "0.0",
         null,
         null,
         null,
         null,
         null,
         null,
         null,
         null,
         null,
         null,
         null,
         null,
         null,
         null,
         null,
         null,
         null,
         null,
         null,
         null,
         null,
         null,
         null,
         null,
         null,
         null,
         null,
         null,
         null,
         null,
         null,
         null,
         null,
         null,
         null,
         null,
         null,
         null,
         null,
         null,
         null,
         null,
         null,
         null,
         null,
         null,
         null,
         null,
         null,
         null,
         null,
         null,
         null,
         null,
         null,
         null,
         null,
         null,
         null,
         null,
         null,
         null,
         null,
         null,
         null,
         null,
         null,
         null,
         null,
         null,
         null,
         null,
         null,
         null,
         null,
         null,
         null,
         null,
         null,
         null,
         null,
         null,
         null,
         null,
         null,
         null,
         null,
         null,
         null,
         null,
         null,
         null,
         null,
         null,
         null,
         null,
         null,
         null,
         null,
         null,
         null,
         null,
         null,
         null,
         null,
         null,
         null,
         null,
         null,
         null,
         null,
         null,
         null,
         null,
         null,
         null,
         null,
         null,
         null,
         null,
         null,
         null,
         null,
         null,
         null,
         null,
         null,
         null,
         null,
         null,
         null,
         null,
         null,
         null,
         null,
         null,
         null,
         null,
         null,
         null,
         null,
         "0.0",
         "0.0",
         "0.0",
         "1.0",
         "1.0",
         "0.0",
         "0.0",
         "0.0",
         "0.0",
         "0.0",
         "0.0",
         "1.0",
         "1.0",
         "1.0",
         "0.0",
         "0.0",
         "0.0",
         "0.0",
         "0.0",
         "0.0",
         "0.0",
         "0.0",
         "0.0",
         "0.0",
         "0.0",
         "0.0",
         "1.0",
         "0.0",
         "0.0",
         "0.0",
         "0.0",
         "0.0",
         "0.0",
         "0.0",
         "0.0",
         "0.0",
         "0.0",
         "0.0",
         "0.0",
         "0.0",
         "0.0",
         "0.0",
         "0.0",
         null,
         null,
         null,
         null,
         null,
         null,
         null,
         null,
         null,
         null,
         null,
         null,
         null,
         null,
         null,
         null,
         null,
         null
        ],
        [
         "3",
         "2987003",
         "0",
         "86499",
         "50.0",
         "W",
         "18132",
         "567.0",
         "150.0",
         "mastercard",
         "117.0",
         "debit",
         "476.0",
         "87.0",
         null,
         null,
         "yahoo.com",
         null,
         "2.0",
         "5.0",
         "0.0",
         "0.0",
         "0.0",
         "4.0",
         "0.0",
         "0.0",
         "1.0",
         "0.0",
         "1.0",
         "0.0",
         "25.0",
         "1.0",
         "112.0",
         "112.0",
         "0.0",
         "94.0",
         "0.0",
         null,
         null,
         null,
         null,
         "84.0",
         null,
         null,
         null,
         null,
         "111.0",
         null,
         null,
         null,
         "M0",
         "T",
         "F",
         null,
         null,
         null,
         null,
         null,
         null,
         null,
         null,
         null,
         null,
         null,
         null,
         null,
         null,
         "1.0",
         "1.0",
         "1.0",
         "0.0",
         "0.0",
         "0.0",
         "0.0",
         "1.0",
         "1.0",
         "0.0",
         "0.0",
         "1.0",
         "1.0",
         "1.0",
         "1.0",
         "0.0",
         "0.0",
         "0.0",
         "0.0",
         "0.0",
         "0.0",
         "0.0",
         "0.0",
         "1.0",
         "1.0",
         "1.0",
         "1.0",
         "0.0",
         "0.0",
         "1.0",
         "0.0",
         "0.0",
         "1.0",
         "1.0",
         "1.0",
         "1.0",
         "0.0",
         "0.0",
         "0.0",
         "0.0",
         "0.0",
         "1.0",
         "1.0",
         "1.0",
         "1.0",
         "0.0",
         "0.0",
         "0.0",
         "0.0",
         "1.0",
         "1.0",
         "0.0",
         "0.0",
         "1.0",
         "1.0",
         "1.0",
         "0.0",
         "0.0",
         "0.0",
         "0.0",
         "0.0",
         "0.0",
         "0.0",
         "1.0",
         "1.0",
         "1.0",
         "1.0",
         "0.0",
         "0.0",
         "0.0",
         "1.0",
         "1.0",
         "0.0",
         "0.0",
         "1.0",
         "1.0",
         "1.0",
         "0.0",
         "0.0",
         "0.0",
         "0.0",
         "0.0",
         "0.0",
         "1.0",
         "48.0",
         "28.0",
         "0.0",
         "10.0",
         "4.0",
         "1.0",
         "38.0",
         "24.0",
         "0.0",
         "0.0",
         "0.0",
         "1.0",
         "1.0",
         "1.0",
         "1.0",
         "1.0",
         "1.0",
         "1.0",
         "1.0",
         "1.0",
         "1.0",
         "1.0",
         "1.0",
         "1.0",
         "1.0",
         "1.0",
         "1.0",
         "1.0",
         "1.0",
         "1.0",
         "50.0",
         "1758.0",
         "925.0",
         "0.0",
         "354.0",
         "135.0",
         "50.0",
         "1404.0",
         "790.0",
         "0.0",
         "0.0",
         "0.0",
         null,
         null,
         null,
         null,
         null,
         null,
         null,
         null,
         null,
         null,
         null,
         null,
         null,
         null,
         null,
         null,
         null,
         null,
         null,
         null,
         null,
         null,
         null,
         null,
         null,
         null,
         null,
         null,
         null,
         null,
         null,
         null,
         null,
         null,
         null,
         null,
         null,
         null,
         null,
         null,
         null,
         null,
         null,
         null,
         null,
         null,
         null,
         null,
         null,
         null,
         null,
         null,
         null,
         null,
         null,
         null,
         null,
         null,
         null,
         null,
         null,
         null,
         null,
         null,
         null,
         null,
         null,
         null,
         null,
         null,
         null,
         null,
         null,
         null,
         null,
         null,
         null,
         null,
         null,
         null,
         null,
         null,
         null,
         null,
         null,
         null,
         null,
         null,
         null,
         null,
         null,
         null,
         null,
         null,
         null,
         null,
         null,
         null,
         null,
         null,
         null,
         null,
         null,
         null,
         null,
         null,
         null,
         null,
         null,
         null,
         null,
         null,
         null,
         null,
         null,
         null,
         null,
         null,
         null,
         null,
         null,
         null,
         null,
         null,
         null,
         null,
         null,
         null,
         null,
         null,
         null,
         null,
         null,
         null,
         null,
         null,
         null,
         null,
         null,
         null,
         null,
         "1.0",
         "28.0",
         "0.0",
         "0.0",
         "0.0",
         "0.0",
         "10.0",
         "0.0",
         "4.0",
         "0.0",
         "0.0",
         "1.0",
         "1.0",
         "1.0",
         "1.0",
         "38.0",
         "24.0",
         "0.0",
         "0.0",
         "0.0",
         "0.0",
         "0.0",
         "0.0",
         "0.0",
         "0.0",
         "0.0",
         "1.0",
         "50.0",
         "1758.0",
         "925.0",
         "0.0",
         "354.0",
         "0.0",
         "135.0",
         "0.0",
         "0.0",
         "0.0",
         "50.0",
         "1404.0",
         "790.0",
         "0.0",
         "0.0",
         "0.0",
         null,
         null,
         null,
         null,
         null,
         null,
         null,
         null,
         null,
         null,
         null,
         null,
         null,
         null,
         null,
         null,
         null,
         null
        ],
        [
         "4",
         "2987004",
         "0",
         "86506",
         "50.0",
         "H",
         "4497",
         "514.0",
         "150.0",
         "mastercard",
         "102.0",
         "credit",
         "420.0",
         "87.0",
         null,
         null,
         "gmail.com",
         null,
         "1.0",
         "1.0",
         "0.0",
         "0.0",
         "0.0",
         "1.0",
         "0.0",
         "1.0",
         "0.0",
         "1.0",
         "1.0",
         "0.0",
         "1.0",
         "1.0",
         "0.0",
         null,
         null,
         null,
         null,
         null,
         null,
         null,
         null,
         null,
         null,
         null,
         null,
         null,
         null,
         null,
         null,
         null,
         null,
         null,
         null,
         null,
         null,
         null,
         null,
         null,
         null,
         null,
         null,
         null,
         null,
         null,
         null,
         null,
         null,
         null,
         null,
         null,
         null,
         null,
         null,
         null,
         null,
         null,
         null,
         null,
         null,
         null,
         null,
         null,
         null,
         null,
         null,
         null,
         null,
         null,
         null,
         null,
         null,
         null,
         null,
         null,
         null,
         null,
         null,
         null,
         null,
         null,
         null,
         null,
         null,
         null,
         null,
         null,
         null,
         null,
         null,
         null,
         null,
         null,
         null,
         null,
         null,
         null,
         null,
         null,
         null,
         null,
         null,
         null,
         null,
         null,
         null,
         null,
         null,
         null,
         null,
         null,
         null,
         null,
         null,
         null,
         null,
         null,
         null,
         null,
         null,
         null,
         null,
         null,
         null,
         null,
         null,
         null,
         null,
         null,
         null,
         null,
         "0.0",
         "0.0",
         "0.0",
         "0.0",
         "0.0",
         "0.0",
         "0.0",
         "0.0",
         "0.0",
         "0.0",
         "0.0",
         "0.0",
         "1.0",
         "1.0",
         "1.0",
         "1.0",
         "1.0",
         "1.0",
         "1.0",
         "1.0",
         "1.0",
         "1.0",
         "1.0",
         "1.0",
         "1.0",
         "1.0",
         "1.0",
         "1.0",
         "1.0",
         "1.0",
         "1.0",
         "0.0",
         "0.0",
         "0.0",
         "0.0",
         "0.0",
         "0.0",
         "0.0",
         "0.0",
         "0.0",
         "0.0",
         "0.0",
         "0.0",
         "0.0",
         "0.0",
         "0.0",
         "0.0",
         "0.0",
         "6.0",
         "18.0",
         "140.0",
         "0.0",
         "0.0",
         "0.0",
         "0.0",
         "1803.0",
         "49.0",
         "64.0",
         "0.0",
         "0.0",
         "0.0",
         "0.0",
         "0.0",
         "0.0",
         "15557.990234375",
         "169690.796875",
         "0.0",
         "0.0",
         "0.0",
         "515.0",
         "5155.0",
         "2840.0",
         "0.0",
         "0.0",
         "0.0",
         "1.0",
         "1.0",
         "0.0",
         "0.0",
         "0.0",
         "0.0",
         "1.0",
         "0.0",
         "0.0",
         "0.0",
         "0.0",
         "0.0",
         "0.0",
         "0.0",
         "0.0",
         "0.0",
         "1.0",
         "1.0",
         "1.0",
         "1.0",
         "1.0",
         "1.0",
         "1.0",
         "1.0",
         "1.0",
         "1.0",
         "1.0",
         "1.0",
         "1.0",
         "1.0",
         "1.0",
         "1.0",
         "0.0",
         "0.0",
         "0.0",
         "0.0",
         "0.0",
         "0.0",
         "0.0",
         "0.0",
         "0.0",
         "0.0",
         "0.0",
         "0.0",
         "0.0",
         "0.0",
         "0.0",
         "0.0",
         "0.0",
         "0.0",
         "0.0",
         "1.0",
         "1.0",
         "0.0",
         "0.0",
         "0.0",
         "0.0",
         "0.0",
         "1.0",
         "1.0",
         "1.0",
         "0.0",
         "0.0",
         "0.0",
         "0.0",
         "0.0",
         "0.0",
         "0.0",
         "0.0",
         "0.0",
         "1.0",
         "1.0",
         "1.0",
         "1.0",
         "1.0",
         "1.0",
         "1.0",
         "1.0",
         "1.0",
         "1.0",
         "1.0",
         "1.0",
         "1.0",
         "1.0",
         "1.0",
         "1.0",
         "1.0",
         "1.0",
         "1.0",
         "1.0",
         "1.0",
         "1.0",
         "1.0",
         "0.0",
         "0.0",
         "0.0",
         "0.0",
         "0.0",
         "0.0",
         "0.0",
         "0.0",
         "0.0",
         "0.0",
         "0.0",
         "0.0",
         "0.0",
         "0.0",
         "0.0",
         "0.0",
         "0.0",
         "0.0",
         "0.0",
         "1.0",
         "1.0",
         "0.0",
         "0.0",
         "0.0",
         "0.0",
         "0.0",
         "0.0",
         "1.0",
         "1.0",
         "1.0",
         "0.0",
         "0.0",
         "0.0",
         "0.0",
         "0.0",
         "0.0",
         "0.0",
         "0.0",
         "0.0",
         "1.0",
         "1.0",
         "1.0",
         "1.0",
         "0.0",
         "0.0",
         "0.0",
         "0.0",
         "0.0",
         "0.0",
         "0.0",
         "0.0",
         "0.0",
         "0.0",
         "0.0",
         "0.0",
         "0.0",
         "0.0",
         "0.0",
         "0.0",
         "0.0",
         "0.0",
         "0.0",
         "0.0",
         "0.0",
         "0.0",
         "0.0",
         "0.0",
         "0.0",
         "0.0",
         "0.0",
         "0.0",
         "0.0",
         "0.0",
         "0.0",
         "0.0",
         "0.0",
         "0.0"
        ]
       ],
       "shape": {
        "columns": 394,
        "rows": 5
       }
      },
      "text/html": [
       "<div>\n",
       "<style scoped>\n",
       "    .dataframe tbody tr th:only-of-type {\n",
       "        vertical-align: middle;\n",
       "    }\n",
       "\n",
       "    .dataframe tbody tr th {\n",
       "        vertical-align: top;\n",
       "    }\n",
       "\n",
       "    .dataframe thead th {\n",
       "        text-align: right;\n",
       "    }\n",
       "</style>\n",
       "<table border=\"1\" class=\"dataframe\">\n",
       "  <thead>\n",
       "    <tr style=\"text-align: right;\">\n",
       "      <th></th>\n",
       "      <th>TransactionID</th>\n",
       "      <th>isFraud</th>\n",
       "      <th>TransactionDT</th>\n",
       "      <th>TransactionAmt</th>\n",
       "      <th>ProductCD</th>\n",
       "      <th>card1</th>\n",
       "      <th>card2</th>\n",
       "      <th>card3</th>\n",
       "      <th>card4</th>\n",
       "      <th>card5</th>\n",
       "      <th>...</th>\n",
       "      <th>V330</th>\n",
       "      <th>V331</th>\n",
       "      <th>V332</th>\n",
       "      <th>V333</th>\n",
       "      <th>V334</th>\n",
       "      <th>V335</th>\n",
       "      <th>V336</th>\n",
       "      <th>V337</th>\n",
       "      <th>V338</th>\n",
       "      <th>V339</th>\n",
       "    </tr>\n",
       "  </thead>\n",
       "  <tbody>\n",
       "    <tr>\n",
       "      <th>0</th>\n",
       "      <td>2987000</td>\n",
       "      <td>0</td>\n",
       "      <td>86400</td>\n",
       "      <td>68.5</td>\n",
       "      <td>W</td>\n",
       "      <td>13926</td>\n",
       "      <td>NaN</td>\n",
       "      <td>150.0</td>\n",
       "      <td>discover</td>\n",
       "      <td>142.0</td>\n",
       "      <td>...</td>\n",
       "      <td>NaN</td>\n",
       "      <td>NaN</td>\n",
       "      <td>NaN</td>\n",
       "      <td>NaN</td>\n",
       "      <td>NaN</td>\n",
       "      <td>NaN</td>\n",
       "      <td>NaN</td>\n",
       "      <td>NaN</td>\n",
       "      <td>NaN</td>\n",
       "      <td>NaN</td>\n",
       "    </tr>\n",
       "    <tr>\n",
       "      <th>1</th>\n",
       "      <td>2987001</td>\n",
       "      <td>0</td>\n",
       "      <td>86401</td>\n",
       "      <td>29.0</td>\n",
       "      <td>W</td>\n",
       "      <td>2755</td>\n",
       "      <td>404.0</td>\n",
       "      <td>150.0</td>\n",
       "      <td>mastercard</td>\n",
       "      <td>102.0</td>\n",
       "      <td>...</td>\n",
       "      <td>NaN</td>\n",
       "      <td>NaN</td>\n",
       "      <td>NaN</td>\n",
       "      <td>NaN</td>\n",
       "      <td>NaN</td>\n",
       "      <td>NaN</td>\n",
       "      <td>NaN</td>\n",
       "      <td>NaN</td>\n",
       "      <td>NaN</td>\n",
       "      <td>NaN</td>\n",
       "    </tr>\n",
       "    <tr>\n",
       "      <th>2</th>\n",
       "      <td>2987002</td>\n",
       "      <td>0</td>\n",
       "      <td>86469</td>\n",
       "      <td>59.0</td>\n",
       "      <td>W</td>\n",
       "      <td>4663</td>\n",
       "      <td>490.0</td>\n",
       "      <td>150.0</td>\n",
       "      <td>visa</td>\n",
       "      <td>166.0</td>\n",
       "      <td>...</td>\n",
       "      <td>NaN</td>\n",
       "      <td>NaN</td>\n",
       "      <td>NaN</td>\n",
       "      <td>NaN</td>\n",
       "      <td>NaN</td>\n",
       "      <td>NaN</td>\n",
       "      <td>NaN</td>\n",
       "      <td>NaN</td>\n",
       "      <td>NaN</td>\n",
       "      <td>NaN</td>\n",
       "    </tr>\n",
       "    <tr>\n",
       "      <th>3</th>\n",
       "      <td>2987003</td>\n",
       "      <td>0</td>\n",
       "      <td>86499</td>\n",
       "      <td>50.0</td>\n",
       "      <td>W</td>\n",
       "      <td>18132</td>\n",
       "      <td>567.0</td>\n",
       "      <td>150.0</td>\n",
       "      <td>mastercard</td>\n",
       "      <td>117.0</td>\n",
       "      <td>...</td>\n",
       "      <td>NaN</td>\n",
       "      <td>NaN</td>\n",
       "      <td>NaN</td>\n",
       "      <td>NaN</td>\n",
       "      <td>NaN</td>\n",
       "      <td>NaN</td>\n",
       "      <td>NaN</td>\n",
       "      <td>NaN</td>\n",
       "      <td>NaN</td>\n",
       "      <td>NaN</td>\n",
       "    </tr>\n",
       "    <tr>\n",
       "      <th>4</th>\n",
       "      <td>2987004</td>\n",
       "      <td>0</td>\n",
       "      <td>86506</td>\n",
       "      <td>50.0</td>\n",
       "      <td>H</td>\n",
       "      <td>4497</td>\n",
       "      <td>514.0</td>\n",
       "      <td>150.0</td>\n",
       "      <td>mastercard</td>\n",
       "      <td>102.0</td>\n",
       "      <td>...</td>\n",
       "      <td>0.0</td>\n",
       "      <td>0.0</td>\n",
       "      <td>0.0</td>\n",
       "      <td>0.0</td>\n",
       "      <td>0.0</td>\n",
       "      <td>0.0</td>\n",
       "      <td>0.0</td>\n",
       "      <td>0.0</td>\n",
       "      <td>0.0</td>\n",
       "      <td>0.0</td>\n",
       "    </tr>\n",
       "  </tbody>\n",
       "</table>\n",
       "<p>5 rows × 394 columns</p>\n",
       "</div>"
      ],
      "text/plain": [
       "   TransactionID  isFraud  TransactionDT  TransactionAmt ProductCD  card1  \\\n",
       "0        2987000        0          86400            68.5         W  13926   \n",
       "1        2987001        0          86401            29.0         W   2755   \n",
       "2        2987002        0          86469            59.0         W   4663   \n",
       "3        2987003        0          86499            50.0         W  18132   \n",
       "4        2987004        0          86506            50.0         H   4497   \n",
       "\n",
       "   card2  card3       card4  card5  ... V330  V331  V332  V333  V334 V335  \\\n",
       "0    NaN  150.0    discover  142.0  ...  NaN   NaN   NaN   NaN   NaN  NaN   \n",
       "1  404.0  150.0  mastercard  102.0  ...  NaN   NaN   NaN   NaN   NaN  NaN   \n",
       "2  490.0  150.0        visa  166.0  ...  NaN   NaN   NaN   NaN   NaN  NaN   \n",
       "3  567.0  150.0  mastercard  117.0  ...  NaN   NaN   NaN   NaN   NaN  NaN   \n",
       "4  514.0  150.0  mastercard  102.0  ...  0.0   0.0   0.0   0.0   0.0  0.0   \n",
       "\n",
       "  V336  V337  V338  V339  \n",
       "0  NaN   NaN   NaN   NaN  \n",
       "1  NaN   NaN   NaN   NaN  \n",
       "2  NaN   NaN   NaN   NaN  \n",
       "3  NaN   NaN   NaN   NaN  \n",
       "4  0.0   0.0   0.0   0.0  \n",
       "\n",
       "[5 rows x 394 columns]"
      ]
     },
     "execution_count": 20,
     "metadata": {},
     "output_type": "execute_result"
    }
   ],
   "source": [
    "train_transaction_df.head()"
   ]
  },
  {
   "cell_type": "code",
   "execution_count": 28,
   "id": "6c760373",
   "metadata": {},
   "outputs": [
    {
     "name": "stdout",
     "output_type": "stream",
     "text": [
      "Total rows (shape[0])               : 590540\n",
      "Total columns (shape[1])            : 394\n",
      "Number of unique TransactionID      : 590540\n",
      "✅ No duplicate TransactionID found in train_transaction_df.\n"
     ]
    }
   ],
   "source": [
    "# Count total rows\n",
    "train_transaction_df_shape = train_transaction_df.shape\n",
    "\n",
    "# Count unique TransactionID values\n",
    "unique_count = train_transaction_df[\"TransactionID\"].nunique()\n",
    "\n",
    "# Print results\n",
    "print(f\"Total rows (shape[0])               : {train_transaction_df_shape[0]}\")\n",
    "print(f\"Total columns (shape[1])            : {train_transaction_df_shape[1]}\")\n",
    "print(f\"Number of unique TransactionID      : {unique_count}\")\n",
    "\n",
    "# Check if total rows equals number of unique TransactionID\n",
    "if train_transaction_df_shape[0] == unique_count:\n",
    "    print(\"✅ No duplicate TransactionID found in train_transaction_df.\")\n",
    "else:\n",
    "    print(\"⚠️ Duplicate TransactionID detected in train_transaction_df.\")\n"
   ]
  },
  {
   "cell_type": "code",
   "execution_count": 44,
   "id": "20bb03e9",
   "metadata": {},
   "outputs": [
    {
     "data": {
      "image/png": "[encoded data removed]",
      "text/plain": [
       "<Figure size 600x600 with 1 Axes>"
      ]
     },
     "metadata": {},
     "output_type": "display_data"
    }
   ],
   "source": [
    "# Calculate the sum of each isFraud value\n",
    "fraud_counts = train_transaction_df[\"isFraud\"].value_counts()\n",
    "\n",
    "# Create labels with specific quantities\n",
    "labels = [f\"Non-Fraud (0)\\n{fraud_counts[0]:,} transactions\",\n",
    "          f\"Fraud (1)\\n{fraud_counts[1]:,} transactions\"]\n",
    "\n",
    "# Create pie chart\n",
    "plt.figure(figsize=(6, 6))\n",
    "plt.pie(\n",
    "    fraud_counts,\n",
    "    labels=labels,\n",
    "    autopct=\"%1.3f%%\",\n",
    "    colors=[\"skyblue\", \"salmon\"],\n",
    "    startangle=90,\n",
    "    wedgeprops={\"edgecolor\": \"white\"}\n",
    ")\n",
    "\n",
    "plt.title(\"Fraud vs Non-Fraud Transaction Ratio\", fontsize=14)\n",
    "plt.show()\n"
   ]
  },
  {
   "cell_type": "markdown",
   "id": "6a4449a4",
   "metadata": {},
   "source": [
    "## Intersection analysis between train_identitiy_df and train_transaction_df"
   ]
  },
  {
   "cell_type": "code",
   "execution_count": 37,
   "id": "cbb00463",
   "metadata": {},
   "outputs": [
    {
     "name": "stdout",
     "output_type": "stream",
     "text": [
      "Total TransactionID in train_identity_df        : 144233\n",
      "Total TransactionID in train_transaction_df     : 590540\n",
      "All identity IDs exist in transaction file?     : True\n",
      "✅ All TransactionID values from train_identity_df are present in train_transaction_df.\n"
     ]
    },
    {
     "data": {
      "image/png": "[encoded data removed]",
      "text/plain": [
       "<Figure size 600x600 with 1 Axes>"
      ]
     },
     "metadata": {},
     "output_type": "display_data"
    }
   ],
   "source": [
    "# Get TransactionID sets from both dataframes\n",
    "ids_identity = set(train_identity_df[\"TransactionID\"])\n",
    "ids_transaction = set(train_transaction_df[\"TransactionID\"])\n",
    "\n",
    "# Check if all IDs in train_identity_df exist in train_transaction_df\n",
    "all_exist = ids_identity.issubset(ids_transaction)\n",
    "\n",
    "# Print the results\n",
    "print(f\"Total TransactionID in train_identity_df        : {len(ids_identity)}\")\n",
    "print(f\"Total TransactionID in train_transaction_df     : {len(ids_transaction)}\")\n",
    "print(f\"All identity IDs exist in transaction file?     : {all_exist}\")\n",
    "\n",
    "if all_exist:\n",
    "    print(\"✅ All TransactionID values from train_identity_df are present in train_transaction_df.\")\n",
    "else:\n",
    "    missing_ids = ids_identity - ids_transaction\n",
    "    print(f\"⚠️ There are {len(missing_ids)} TransactionID values in train_identity_df not found in train_transaction_df.\")\n",
    "\n",
    "# Create a Venn diagram\n",
    "plt.figure(figsize=(6,6))\n",
    "venn2(\n",
    "    [ids_identity, ids_transaction],\n",
    "    set_labels=(\"train_identity_df\", \"train_transaction_df\"),\n",
    "    set_colors=(\"skyblue\", \"lightgreen\"),\n",
    "    alpha=0.6\n",
    ")\n",
    "plt.title(\"TransactionID Overlap Between Identity and Transaction Data\")\n",
    "plt.show()\n"
   ]
  },
  {
   "cell_type": "markdown",
   "id": "c180c6e5",
   "metadata": {},
   "source": [
    "## Unique Person"
   ]
  },
  {
   "cell_type": "markdown",
   "id": "e94d27da",
   "metadata": {},
   "source": [
    "Why Create a Unique Person ID?\n",
    "1. card1–card6 contain specific card attributes\n",
    "\n",
    "    These columns store partially masked or encoded card details, such as:\n",
    "    - card1: Unique or partial card ID\n",
    "    - card2: Issuer bank code\n",
    "    - card3: Issuing region\n",
    "    - card4: Card type (Visa, Mastercard, etc.)\n",
    "    - card5: Expiration year\n",
    "    - card6: Account type (debit, credit, prepaid)\n",
    "\n",
    "    A single card typically belongs to one person or account.\n",
    "\n",
    "2. addr1 and addr2 indicate location\n",
    "\n",
    "    - addr1: Area/region/state code\n",
    "    - addr2: Country or broader region\n",
    "\n",
    "    These help distinguish transactions from the same card used in different locations.\n",
    "\n",
    "3. Adding P_emaildomain and R_emaildomain for more precision\n",
    "\n",
    "    - P_emaildomain: Purchaser’s email domain\n",
    "    - R_emaildomain: Recipient’s email domain\n",
    "\n",
    "    Including email domains further increases the uniqueness of the person identifier.\n",
    "\n",
    "4. Why combine them?\n",
    "    \n",
    "    Using just one feature (e.g., card1) might overlap between different people.\n",
    "    Combining card1–card6 + addr1–addr2 + P_emaildomain + R_emaildomain drastically reduces the chance of collisions, making the ID more reliable.\n",
    "\n",
    "5. Benefits for fraud analysis\n",
    "\n",
    "    - Track the number of transactions per person\n",
    "    - Analyze purchase patterns\n",
    "    - Detect repeated fraud attempts by the same individual"
   ]
  },
  {
   "cell_type": "code",
   "execution_count": 46,
   "id": "c20cba83",
   "metadata": {},
   "outputs": [
    {
     "name": "stdout",
     "output_type": "stream",
     "text": [
      "Total rows                        : 590540\n",
      "Unique TransactionIDs              : 590540\n",
      "Unique person IDs (card+addr+email combo): 114187\n",
      "⚠️ Multiple transactions may come from the same person.\n"
     ]
    }
   ],
   "source": [
    "# Create a unique identifier by combining card1-card6, addr1-addr2, P_emaildomain, and R_emaildomain\n",
    "train_transaction_df[\"unique_id\"] = (\n",
    "    train_transaction_df[\"card1\"].astype(str) + \"_\" +\n",
    "    train_transaction_df[\"card2\"].astype(str) + \"_\" +\n",
    "    train_transaction_df[\"card3\"].astype(str) + \"_\" +\n",
    "    train_transaction_df[\"card4\"].astype(str) + \"_\" +\n",
    "    train_transaction_df[\"card5\"].astype(str) + \"_\" +\n",
    "    train_transaction_df[\"card6\"].astype(str) + \"_\" +\n",
    "    train_transaction_df[\"addr1\"].astype(str) + \"_\" +\n",
    "    train_transaction_df[\"addr2\"].astype(str) + \"_\" +\n",
    "    train_transaction_df[\"P_emaildomain\"].astype(str) + \"_\" +\n",
    "    train_transaction_df[\"R_emaildomain\"].astype(str)\n",
    ")\n",
    "\n",
    "# Count the total rows\n",
    "total_rows = train_transaction_df.shape[0]\n",
    "\n",
    "# Count the number of unique TransactionIDs\n",
    "unique_transaction_ids = train_transaction_df[\"TransactionID\"].nunique()\n",
    "\n",
    "# Count the number of unique person IDs\n",
    "unique_person_ids = train_transaction_df[\"unique_id\"].nunique()\n",
    "\n",
    "# Print results\n",
    "print(f\"Total rows                        : {total_rows}\")\n",
    "print(f\"Unique TransactionIDs              : {unique_transaction_ids}\")\n",
    "print(f\"Unique person IDs (card+addr+email combo): {unique_person_ids}\")\n",
    "\n",
    "# Check if each TransactionID comes from a different person\n",
    "if unique_transaction_ids == unique_person_ids:\n",
    "    print(\"✅ Each TransactionID belongs to a different unique person.\")\n",
    "else:\n",
    "    print(\"⚠️ Multiple transactions may come from the same person.\")\n"
   ]
  }
 ],
 "metadata": {
  "kernelspec": {
   "display_name": "pengolahan_citra",
   "language": "python",
   "name": "python3"
  },
  "language_info": {
   "codemirror_mode": {
    "name": "ipython",
    "version": 3
   },
   "file_extension": ".py",
   "mimetype": "text/x-python",
   "name": "python",
   "nbconvert_exporter": "python",
   "pygments_lexer": "ipython3",
   "version": "3.12.4"
  }
 },
 "nbformat": 4,
 "nbformat_minor": 5
}
